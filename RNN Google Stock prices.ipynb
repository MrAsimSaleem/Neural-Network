{
 "cells": [
  {
   "cell_type": "code",
   "execution_count": 24,
   "metadata": {},
   "outputs": [],
   "source": [
    "import numpy as np\n",
    "import matplotlib.pyplot as plt\n",
    "import pandas as pd\n",
    "import tensorflow as tf"
   ]
  },
  {
   "cell_type": "code",
   "execution_count": 3,
   "metadata": {},
   "outputs": [],
   "source": [
    "\n",
    "dataset_train = pd.read_csv('Google_Stock_Price_Train.csv')\n",
    "training_set = dataset_train.iloc[:, 1:2].values"
   ]
  },
  {
   "cell_type": "code",
   "execution_count": 4,
   "metadata": {},
   "outputs": [],
   "source": [
    "from sklearn.preprocessing import MinMaxScaler\n",
    "scaler = MinMaxScaler(feature_range= (0, 1))\n",
    "training_set_scaled = scaler.fit_transform(training_set)"
   ]
  },
  {
   "cell_type": "code",
   "execution_count": 14,
   "metadata": {},
   "outputs": [],
   "source": [
    "# creating data structure with 60 time stamp and 1 output\n",
    "\n",
    "x_train = []\n",
    "y_train = []\n",
    "\n",
    "for i in range(60, 1258):\n",
    "    x_train.append(training_set_scaled[i-60:i, 0])# i-60:i is 60 time stamp actually it is 0 to 59 and[i-60:i, 0] 0 here means is open\n",
    "    y_train.append(training_set_scaled[i, 0])\n",
    "x_train, y_train = np.array(x_train), np.array(y_train)\n",
    "\n",
    "\n",
    "# reshaping the vector\n",
    "\n",
    "x_train = np.reshape(x_train, (x_train.shape[0], x_train.shape[1], 1))\n"
   ]
  },
  {
   "cell_type": "code",
   "execution_count": 6,
   "metadata": {},
   "outputs": [],
   "source": [
    "from keras.models import Sequential\n",
    "from keras.layers import Dense, LSTM, Dropout"
   ]
  },
  {
   "cell_type": "code",
   "execution_count": 8,
   "metadata": {},
   "outputs": [],
   "source": [
    "# Initializing the RNN\n",
    "regressor = Sequential()\n"
   ]
  },
  {
   "cell_type": "code",
   "execution_count": 42,
   "metadata": {
    "scrolled": true
   },
   "outputs": [
    {
     "data": {
      "text/plain": [
       "<tensorflow.python.keras.layers.core.Dropout at 0x2bf599e62e0>"
      ]
     },
     "execution_count": 42,
     "metadata": {},
     "output_type": "execute_result"
    }
   ],
   "source": [
    "# first LSTM layer\n",
    "tf.keras.layers.LSTM(50, return_sequences= True, input_shape = (x_train.shape[1], 1))\n",
    "# Dropout layer for regularization\n",
    "tf.keras.layers.Dropout(0.2)"
   ]
  },
  {
   "cell_type": "code",
   "execution_count": 29,
   "metadata": {},
   "outputs": [
    {
     "data": {
      "text/plain": [
       "<tensorflow.python.keras.layers.core.Dropout at 0x2bf599e9670>"
      ]
     },
     "execution_count": 29,
     "metadata": {},
     "output_type": "execute_result"
    }
   ],
   "source": [
    "# 2nd LSTM layer\n",
    "tf.keras.layers.LSTM(50, return_sequences= True)\n",
    "# Dropout layer for regularization\n",
    "tf.keras.layers.Dropout(0.2)"
   ]
  },
  {
   "cell_type": "code",
   "execution_count": 30,
   "metadata": {},
   "outputs": [
    {
     "data": {
      "text/plain": [
       "<tensorflow.python.keras.layers.core.Dropout at 0x2bf59a45ca0>"
      ]
     },
     "execution_count": 30,
     "metadata": {},
     "output_type": "execute_result"
    }
   ],
   "source": [
    "# 3rd LSTM layer\n",
    "tf.keras.layers.LSTM(50, return_sequences= True)\n",
    "# Dropout layer for regularization\n",
    "tf.keras.layers.Dropout(0.2)"
   ]
  },
  {
   "cell_type": "code",
   "execution_count": 32,
   "metadata": {},
   "outputs": [
    {
     "data": {
      "text/plain": [
       "<tensorflow.python.keras.layers.core.Dropout at 0x2bf59a4bfd0>"
      ]
     },
     "execution_count": 32,
     "metadata": {},
     "output_type": "execute_result"
    }
   ],
   "source": [
    "# 4thLSTM layer\n",
    "tf.keras.layers.LSTM(50, return_sequences= True, input_shape = (x_train.shape[1], 1))\n",
    "# Dropout layer for regularization\n",
    "tf.keras.layers.Dropout(0.2)"
   ]
  },
  {
   "cell_type": "code",
   "execution_count": 35,
   "metadata": {},
   "outputs": [
    {
     "data": {
      "text/plain": [
       "<tensorflow.python.keras.layers.core.Dense at 0x2bf59f6c430>"
      ]
     },
     "execution_count": 35,
     "metadata": {},
     "output_type": "execute_result"
    }
   ],
   "source": [
    "tf.keras.layers.Dense(1, activation = 'sigmoid')\n"
   ]
  },
  {
   "cell_type": "code",
   "execution_count": 43,
   "metadata": {},
   "outputs": [],
   "source": [
    "# Lets compile the model\n",
    "\n",
    "regressor.compile(optimizer = 'adam', loss = 'mean_squared_error')\n"
   ]
  },
  {
   "cell_type": "code",
   "execution_count": 44,
   "metadata": {
    "scrolled": true
   },
   "outputs": [
    {
     "name": "stdout",
     "output_type": "stream",
     "text": [
      "Epoch 1/50\n",
      "38/38 [==============================] - 38s 99ms/step - loss: 0.2082 0s - lo\n",
      "Epoch 2/50\n",
      "38/38 [==============================] - 4s 99ms/step - loss: 0.1210\n",
      "Epoch 3/50\n",
      "38/38 [==============================] - 4s 98ms/step - loss: 0.1161\n",
      "Epoch 4/50\n",
      "38/38 [==============================] - 4s 102ms/step - loss: 0.1157\n",
      "Epoch 5/50\n",
      "38/38 [==============================] - 4s 102ms/step - loss: 0.1177\n",
      "Epoch 6/50\n",
      "38/38 [==============================] - 4s 100ms/step - loss: 0.1179\n",
      "Epoch 7/50\n",
      "38/38 [==============================] - 4s 104ms/step - loss: 0.1164\n",
      "Epoch 8/50\n",
      "38/38 [==============================] - 4s 103ms/step - loss: 0.1140\n",
      "Epoch 9/50\n",
      "38/38 [==============================] - 4s 99ms/step - loss: 0.1163\n",
      "Epoch 10/50\n",
      "38/38 [==============================] - 4s 99ms/step - loss: 0.1155\n",
      "Epoch 11/50\n",
      "38/38 [==============================] - 4s 100ms/step - loss: 0.1111\n",
      "Epoch 12/50\n",
      "38/38 [==============================] - 4s 98ms/step - loss: 0.1176\n",
      "Epoch 13/50\n",
      "38/38 [==============================] - 4s 105ms/step - loss: 0.1163\n",
      "Epoch 14/50\n",
      "38/38 [==============================] - 4s 100ms/step - loss: 0.1166\n",
      "Epoch 15/50\n",
      "38/38 [==============================] - 4s 114ms/step - loss: 0.1107\n",
      "Epoch 16/50\n",
      "38/38 [==============================] - 4s 105ms/step - loss: 0.1207\n",
      "Epoch 17/50\n",
      "38/38 [==============================] - 4s 101ms/step - loss: 0.1149\n",
      "Epoch 18/50\n",
      "38/38 [==============================] - 4s 103ms/step - loss: 0.1142\n",
      "Epoch 19/50\n",
      "38/38 [==============================] - 4s 101ms/step - loss: 0.1165\n",
      "Epoch 20/50\n",
      "38/38 [==============================] - 4s 103ms/step - loss: 0.1157\n",
      "Epoch 21/50\n",
      "38/38 [==============================] - 4s 100ms/step - loss: 0.1107\n",
      "Epoch 22/50\n",
      "38/38 [==============================] - 4s 103ms/step - loss: 0.1152\n",
      "Epoch 23/50\n",
      "38/38 [==============================] - 4s 101ms/step - loss: 0.1160\n",
      "Epoch 24/50\n",
      "38/38 [==============================] - 4s 102ms/step - loss: 0.1115\n",
      "Epoch 25/50\n",
      "38/38 [==============================] - 4s 101ms/step - loss: 0.1150\n",
      "Epoch 26/50\n",
      "38/38 [==============================] - 4s 102ms/step - loss: 0.1170\n",
      "Epoch 27/50\n",
      "38/38 [==============================] - 4s 104ms/step - loss: 0.1143\n",
      "Epoch 28/50\n",
      "38/38 [==============================] - 4s 104ms/step - loss: 0.1146\n",
      "Epoch 29/50\n",
      "38/38 [==============================] - 4s 104ms/step - loss: 0.1168\n",
      "Epoch 30/50\n",
      "38/38 [==============================] - 4s 100ms/step - loss: 0.1159\n",
      "Epoch 31/50\n",
      "38/38 [==============================] - 4s 103ms/step - loss: 0.1192\n",
      "Epoch 32/50\n",
      "38/38 [==============================] - 4s 106ms/step - loss: 0.1140\n",
      "Epoch 33/50\n",
      "38/38 [==============================] - 4s 102ms/step - loss: 0.1124\n",
      "Epoch 34/50\n",
      "38/38 [==============================] - 4s 101ms/step - loss: 0.1142\n",
      "Epoch 35/50\n",
      "38/38 [==============================] - 4s 100ms/step - loss: 0.1160\n",
      "Epoch 36/50\n",
      "38/38 [==============================] - 4s 107ms/step - loss: 0.1195\n",
      "Epoch 37/50\n",
      "38/38 [==============================] - 4s 101ms/step - loss: 0.1173\n",
      "Epoch 38/50\n",
      "38/38 [==============================] - 4s 102ms/step - loss: 0.1163\n",
      "Epoch 39/50\n",
      "38/38 [==============================] - 4s 101ms/step - loss: 0.1203\n",
      "Epoch 40/50\n",
      "38/38 [==============================] - 4s 103ms/step - loss: 0.1131\n",
      "Epoch 41/50\n",
      "38/38 [==============================] - 4s 101ms/step - loss: 0.1156\n",
      "Epoch 42/50\n",
      "38/38 [==============================] - 4s 102ms/step - loss: 0.1158\n",
      "Epoch 43/50\n",
      "38/38 [==============================] - 4s 103ms/step - loss: 0.1177\n",
      "Epoch 44/50\n",
      "38/38 [==============================] - 4s 102ms/step - loss: 0.1151\n",
      "Epoch 45/50\n",
      "38/38 [==============================] - 4s 99ms/step - loss: 0.1144\n",
      "Epoch 46/50\n",
      "38/38 [==============================] - 4s 98ms/step - loss: 0.1116\n",
      "Epoch 47/50\n",
      "38/38 [==============================] - 4s 103ms/step - loss: 0.1179\n",
      "Epoch 48/50\n",
      "38/38 [==============================] - 4s 117ms/step - loss: 0.1167\n",
      "Epoch 49/50\n",
      "38/38 [==============================] - 4s 106ms/step - loss: 0.1132\n",
      "Epoch 50/50\n",
      "38/38 [==============================] - 4s 101ms/step - loss: 0.1149\n"
     ]
    },
    {
     "data": {
      "text/plain": [
       "<keras.callbacks.History at 0x2bf580a69d0>"
      ]
     },
     "execution_count": 44,
     "metadata": {},
     "output_type": "execute_result"
    }
   ],
   "source": [
    "# Fit the RNN\n",
    "regressor.fit(x_train, y_train, epochs =  50, batch_size = 32)"
   ]
  },
  {
   "cell_type": "code",
   "execution_count": 52,
   "metadata": {},
   "outputs": [],
   "source": [
    "# Load the stock price test data of 2017\n",
    "\n",
    "dataset_test = pd.read_csv('Google_Stock_Price_Test.csv')\n",
    "real_stock_price = dataset_test.iloc[:, 1:2].values"
   ]
  },
  {
   "cell_type": "code",
   "execution_count": 53,
   "metadata": {},
   "outputs": [],
   "source": [
    "# Get the predicted stock price of 2017 and visualIZING THE RESULTS\n",
    " \n",
    "dataset_total = pd.concat((dataset_train['Open'], dataset_test['Open']), axis = 0)\n",
    "inputs= dataset_total[len(dataset_total)- len(dataset_test)- 60:].values\n",
    "inputs = inputs.reshape(-1, 1)\n",
    "inputs = scaler.transform(inputs)\n",
    "\n",
    "x_test = []\n",
    "\n",
    "for i in range(60, 80):\n",
    "    x_test.append(inputs[i- 60:i, 0])\n",
    "x_test = np.array(x_test)\n",
    "x_test = np.reshape(x_test, (x_test.shape[0] , x_test.shape[1], 1))\n",
    "\n",
    "predicted_stock_price = regressor.predict(x_test)\n",
    "predicted_stock_price = scaler.inverse_transform(predicted_stock_price)"
   ]
  },
  {
   "cell_type": "code",
   "execution_count": 59,
   "metadata": {},
   "outputs": [
    {
     "data": {
      "text/plain": [
       "<function matplotlib.pyplot.show(close=None, block=None)>"
      ]
     },
     "execution_count": 59,
     "metadata": {},
     "output_type": "execute_result"
    },
    {
     "data": {
      "image/png": "[encoded data removed]",
      "text/plain": [
       "<Figure size 432x288 with 1 Axes>"
      ]
     },
     "metadata": {
      "needs_background": "light"
     },
     "output_type": "display_data"
    }
   ],
   "source": [
    "# visualize the results of predicted and real stock prices\n",
    "\n",
    "plt.plot(real_stock_price, color = 'red', label = 'Real google stock price' )\n",
    "plt.plot(predicted_stock_price, color = 'blue', label = 'Predicted google stock price' )\n",
    "plt.title('Google stock price prediction')\n",
    "plt.xlabel('Time')\n",
    "plt.ylabel('Google stock price')\n",
    "plt.show\n",
    "# plt.legend()\n"
   ]
  }
 ],
 "metadata": {
  "kernelspec": {
   "display_name": "Python 3",
   "language": "python",
   "name": "python3"
  },
  "language_info": {
   "codemirror_mode": {
    "name": "ipython",
    "version": 3
   },
   "file_extension": ".py",
   "mimetype": "text/x-python",
   "name": "python",
   "nbconvert_exporter": "python",
   "pygments_lexer": "ipython3",
   "version": "3.8.5"
  }
 },
 "nbformat": 4,
 "nbformat_minor": 4
}
