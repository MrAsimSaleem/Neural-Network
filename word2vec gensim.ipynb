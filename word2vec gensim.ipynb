{
 "cells": [
  {
   "cell_type": "code",
   "execution_count": 4,
   "metadata": {},
   "outputs": [],
   "source": [
    "# !pip install gensim"
   ]
  },
  {
   "cell_type": "code",
   "execution_count": 3,
   "metadata": {},
   "outputs": [],
   "source": [
    "# !pip install python-Levenshtein"
   ]
  },
  {
   "cell_type": "code",
   "execution_count": 16,
   "metadata": {},
   "outputs": [
    {
     "name": "stderr",
     "output_type": "stream",
     "text": [
      "C:\\Users\\Asim Ramzan\\anaconda3\\lib\\site-packages\\gensim\\similarities\\__init__.py:15: UserWarning: The gensim.similarities.levenshtein submodule is disabled, because the optional Levenshtein package <https://pypi.org/project/python-Levenshtein/> is unavailable. Install Levenhstein (e.g. `pip install python-Levenshtein`) to suppress this warning.\n",
      "  warnings.warn(msg)\n"
     ]
    }
   ],
   "source": [
    "# \n",
    "import gensim\n",
    "# \n"
   ]
  },
  {
   "cell_type": "code",
   "execution_count": null,
   "metadata": {},
   "outputs": [],
   "source": []
  },
  {
   "cell_type": "code",
   "execution_count": 10,
   "metadata": {},
   "outputs": [],
   "source": [
    "import pandas as pd\n"
   ]
  },
  {
   "cell_type": "code",
   "execution_count": 14,
   "metadata": {},
   "outputs": [],
   "source": [
    "df = pd.read_json('Cell_Phones_and_Accessories_5.json', lines = True)"
   ]
  },
  {
   "cell_type": "code",
   "execution_count": 15,
   "metadata": {
    "scrolled": true
   },
   "outputs": [
    {
     "data": {
      "text/html": [
       "<div>\n",
       "<style scoped>\n",
       "    .dataframe tbody tr th:only-of-type {\n",
       "        vertical-align: middle;\n",
       "    }\n",
       "\n",
       "    .dataframe tbody tr th {\n",
       "        vertical-align: top;\n",
       "    }\n",
       "\n",
       "    .dataframe thead th {\n",
       "        text-align: right;\n",
       "    }\n",
       "</style>\n",
       "<table border=\"1\" class=\"dataframe\">\n",
       "  <thead>\n",
       "    <tr style=\"text-align: right;\">\n",
       "      <th></th>\n",
       "      <th>reviewerID</th>\n",
       "      <th>asin</th>\n",
       "      <th>reviewerName</th>\n",
       "      <th>helpful</th>\n",
       "      <th>reviewText</th>\n",
       "      <th>overall</th>\n",
       "      <th>summary</th>\n",
       "      <th>unixReviewTime</th>\n",
       "      <th>reviewTime</th>\n",
       "    </tr>\n",
       "  </thead>\n",
       "  <tbody>\n",
       "    <tr>\n",
       "      <th>64517</th>\n",
       "      <td>A3BH0G750NO10Q</td>\n",
       "      <td>B005ZG0342</td>\n",
       "      <td>Jump Squad \"GKR\"</td>\n",
       "      <td>[0, 0]</td>\n",
       "      <td>The product is excellent.  I've dropped the ph...</td>\n",
       "      <td>5</td>\n",
       "      <td>Easy to use and works great</td>\n",
       "      <td>1349913600</td>\n",
       "      <td>10 11, 2012</td>\n",
       "    </tr>\n",
       "    <tr>\n",
       "      <th>166900</th>\n",
       "      <td>A1R4FLMBTTOZP2</td>\n",
       "      <td>B00DCIZJ5S</td>\n",
       "      <td>Monu Koshy \"Monu Koshy\"</td>\n",
       "      <td>[0, 0]</td>\n",
       "      <td>Does add a good amount of protection, but does...</td>\n",
       "      <td>3</td>\n",
       "      <td>Looks alright.</td>\n",
       "      <td>1385424000</td>\n",
       "      <td>11 26, 2013</td>\n",
       "    </tr>\n",
       "    <tr>\n",
       "      <th>51098</th>\n",
       "      <td>A1HY300EZK9A8Y</td>\n",
       "      <td>B005DOTWSY</td>\n",
       "      <td>cheryl peeler</td>\n",
       "      <td>[0, 0]</td>\n",
       "      <td>Love to sparkle, just what I needed! My only p...</td>\n",
       "      <td>4</td>\n",
       "      <td>Nice and shiny!</td>\n",
       "      <td>1354665600</td>\n",
       "      <td>12 5, 2012</td>\n",
       "    </tr>\n",
       "    <tr>\n",
       "      <th>23386</th>\n",
       "      <td>A1DM4UO4CRFNQV</td>\n",
       "      <td>B003YDZXV6</td>\n",
       "      <td>Samuel D. Snead \"Analytical Shopper\"</td>\n",
       "      <td>[0, 0]</td>\n",
       "      <td>This battery was better than my previous one. ...</td>\n",
       "      <td>2</td>\n",
       "      <td>Decent Battery</td>\n",
       "      <td>1363392000</td>\n",
       "      <td>03 16, 2013</td>\n",
       "    </tr>\n",
       "    <tr>\n",
       "      <th>137650</th>\n",
       "      <td>A2Y8K8FC7QBMQC</td>\n",
       "      <td>B00A70MOIO</td>\n",
       "      <td>K. K. Ying \"K.K. YING\"</td>\n",
       "      <td>[0, 0]</td>\n",
       "      <td>Good product; you got what you paid; but if th...</td>\n",
       "      <td>4</td>\n",
       "      <td>Good Product</td>\n",
       "      <td>1395619200</td>\n",
       "      <td>03 24, 2014</td>\n",
       "    </tr>\n",
       "  </tbody>\n",
       "</table>\n",
       "</div>"
      ],
      "text/plain": [
       "            reviewerID        asin                          reviewerName  \\\n",
       "64517   A3BH0G750NO10Q  B005ZG0342                      Jump Squad \"GKR\"   \n",
       "166900  A1R4FLMBTTOZP2  B00DCIZJ5S               Monu Koshy \"Monu Koshy\"   \n",
       "51098   A1HY300EZK9A8Y  B005DOTWSY                         cheryl peeler   \n",
       "23386   A1DM4UO4CRFNQV  B003YDZXV6  Samuel D. Snead \"Analytical Shopper\"   \n",
       "137650  A2Y8K8FC7QBMQC  B00A70MOIO                K. K. Ying \"K.K. YING\"   \n",
       "\n",
       "       helpful                                         reviewText  overall  \\\n",
       "64517   [0, 0]  The product is excellent.  I've dropped the ph...        5   \n",
       "166900  [0, 0]  Does add a good amount of protection, but does...        3   \n",
       "51098   [0, 0]  Love to sparkle, just what I needed! My only p...        4   \n",
       "23386   [0, 0]  This battery was better than my previous one. ...        2   \n",
       "137650  [0, 0]  Good product; you got what you paid; but if th...        4   \n",
       "\n",
       "                            summary  unixReviewTime   reviewTime  \n",
       "64517   Easy to use and works great      1349913600  10 11, 2012  \n",
       "166900               Looks alright.      1385424000  11 26, 2013  \n",
       "51098               Nice and shiny!      1354665600   12 5, 2012  \n",
       "23386                Decent Battery      1363392000  03 16, 2013  \n",
       "137650                 Good Product      1395619200  03 24, 2014  "
      ]
     },
     "execution_count": 15,
     "metadata": {},
     "output_type": "execute_result"
    }
   ],
   "source": [
    "df.sample(5)"
   ]
  },
  {
   "cell_type": "code",
   "execution_count": 17,
   "metadata": {
    "scrolled": true
   },
   "outputs": [
    {
     "data": {
      "text/plain": [
       "(194439, 9)"
      ]
     },
     "execution_count": 17,
     "metadata": {},
     "output_type": "execute_result"
    }
   ],
   "source": [
    "df.shape"
   ]
  },
  {
   "cell_type": "code",
   "execution_count": 20,
   "metadata": {},
   "outputs": [
    {
     "data": {
      "text/plain": [
       "'These stickers work like the review says they do. They stick on great and they stay on the phone. They are super stylish and I can share them with my sister. :)'"
      ]
     },
     "execution_count": 20,
     "metadata": {},
     "output_type": "execute_result"
    }
   ],
   "source": [
    "# using only the Review text\n",
    "df.reviewText[1]"
   ]
  },
  {
   "cell_type": "code",
   "execution_count": 22,
   "metadata": {
    "scrolled": true
   },
   "outputs": [
    {
     "data": {
      "text/plain": [
       "['these',\n",
       " 'stickers',\n",
       " 'work',\n",
       " 'like',\n",
       " 'the',\n",
       " 'review',\n",
       " 'says',\n",
       " 'they',\n",
       " 'do',\n",
       " 'they',\n",
       " 'stick',\n",
       " 'on',\n",
       " 'great',\n",
       " 'and',\n",
       " 'they',\n",
       " 'stay',\n",
       " 'on',\n",
       " 'the',\n",
       " 'phone',\n",
       " 'they',\n",
       " 'are',\n",
       " 'super',\n",
       " 'stylish',\n",
       " 'and',\n",
       " 'can',\n",
       " 'share',\n",
       " 'them',\n",
       " 'with',\n",
       " 'my',\n",
       " 'sister']"
      ]
     },
     "execution_count": 22,
     "metadata": {},
     "output_type": "execute_result"
    }
   ],
   "source": [
    "# removing the punctuation and capital letters etc so that it could be easy to process\n",
    "# we will use gensim library to generate best result\n",
    "gensim.utils.simple_preprocess('These stickers work like the review says they do. They stick on great and they stay on the phone. They are super stylish and I can share them with my sister. :)')\n",
    "\n",
    "# we can see all letters in lower case and commas and punctuation , useless words are like i, the, an ,is are removed"
   ]
  },
  {
   "cell_type": "code",
   "execution_count": 26,
   "metadata": {},
   "outputs": [
    {
     "data": {
      "text/plain": [
       "0         [they, look, good, and, stick, good, just, don...\n",
       "1         [these, stickers, work, like, the, review, say...\n",
       "2         [these, are, awesome, and, make, my, phone, lo...\n",
       "3         [item, arrived, in, great, time, and, was, in,...\n",
       "4         [awesome, stays, on, and, looks, great, can, b...\n",
       "                                ...                        \n",
       "194434    [works, great, just, like, my, original, one, ...\n",
       "194435    [great, product, great, packaging, high, quali...\n",
       "194436    [this, is, great, cable, just, as, good, as, t...\n",
       "194437    [really, like, it, becasue, it, works, well, w...\n",
       "194438    [product, as, described, have, wasted, lot, of...\n",
       "Name: reviewText, Length: 194439, dtype: object"
      ]
     },
     "execution_count": 26,
     "metadata": {},
     "output_type": "execute_result"
    }
   ],
   "source": [
    "# lets convert whole columns into panda series objects\n",
    "reviewText = df.reviewText.apply(gensim.utils.simple_preprocess)\n",
    "reviewText"
   ]
  },
  {
   "cell_type": "code",
   "execution_count": 28,
   "metadata": {},
   "outputs": [],
   "source": [
    "# Initializing gensim model , gensim is NLP library builtin with word2vector class\n",
    "model = gensim.models.Word2Vec(\n",
    " \n",
    "    window = 10, # windows = 10  words before and after the target word\n",
    "    min_count = 2,\n",
    "    workers = 4,\n",
    "    \n",
    ")"
   ]
  },
  {
   "cell_type": "code",
   "execution_count": 30,
   "metadata": {},
   "outputs": [],
   "source": [
    "# building the vocabulary \n",
    "model.build_vocab(reviewText, progress_per= 1000,  )"
   ]
  },
  {
   "cell_type": "code",
   "execution_count": 32,
   "metadata": {},
   "outputs": [
    {
     "data": {
      "text/plain": [
       "194439"
      ]
     },
     "execution_count": 32,
     "metadata": {},
     "output_type": "execute_result"
    }
   ],
   "source": [
    "model.corpus_count"
   ]
  },
  {
   "cell_type": "code",
   "execution_count": 33,
   "metadata": {},
   "outputs": [
    {
     "data": {
      "text/plain": [
       "5"
      ]
     },
     "execution_count": 33,
     "metadata": {},
     "output_type": "execute_result"
    }
   ],
   "source": [
    "model.epochs"
   ]
  },
  {
   "cell_type": "code",
   "execution_count": 35,
   "metadata": {},
   "outputs": [
    {
     "data": {
      "text/plain": [
       "(61504302, 83868975)"
      ]
     },
     "execution_count": 35,
     "metadata": {},
     "output_type": "execute_result"
    }
   ],
   "source": [
    "model.train(reviewText, total_examples = model.corpus_count, epochs = model.epochs)\n"
   ]
  },
  {
   "cell_type": "code",
   "execution_count": 36,
   "metadata": {},
   "outputs": [],
   "source": [
    "model.save('./word2vec-amazon-Cell_Phones_and_Accessories_Reviews.model')"
   ]
  },
  {
   "cell_type": "code",
   "execution_count": 38,
   "metadata": {},
   "outputs": [
    {
     "data": {
      "text/plain": [
       "[('terrible', 0.6774733066558838),\n",
       " ('shabby', 0.6670687794685364),\n",
       " ('good', 0.5975676774978638),\n",
       " ('horrible', 0.5727895498275757),\n",
       " ('okay', 0.5398114323616028),\n",
       " ('disappointing', 0.5329607129096985),\n",
       " ('crappy', 0.5280848145484924),\n",
       " ('awful', 0.5210759043693542),\n",
       " ('sad', 0.5028854608535767),\n",
       " ('poor', 0.5005925893783569)]"
      ]
     },
     "execution_count": 38,
     "metadata": {},
     "output_type": "execute_result"
    }
   ],
   "source": [
    "model.wv.most_similar('bad')"
   ]
  },
  {
   "cell_type": "code",
   "execution_count": 45,
   "metadata": {},
   "outputs": [
    {
     "data": {
      "text/plain": [
       "0.77627814"
      ]
     },
     "execution_count": 45,
     "metadata": {},
     "output_type": "execute_result"
    }
   ],
   "source": [
    "model.wv.similarity(w1 = 'good', w2 = 'great')\n",
    "#  high similarity"
   ]
  },
  {
   "cell_type": "code",
   "execution_count": 46,
   "metadata": {},
   "outputs": [
    {
     "data": {
      "text/plain": [
       "-0.05308377"
      ]
     },
     "execution_count": 46,
     "metadata": {},
     "output_type": "execute_result"
    }
   ],
   "source": [
    "model.wv.similarity(w1 = 'good', w2 = 'product')\n",
    "\n",
    "# v low similarity"
   ]
  },
  {
   "cell_type": "code",
   "execution_count": 47,
   "metadata": {},
   "outputs": [
    {
     "data": {
      "text/plain": [
       "0.60239935"
      ]
     },
     "execution_count": 47,
     "metadata": {},
     "output_type": "execute_result"
    }
   ],
   "source": [
    "model.wv.similarity(w1 = 'good', w2 = 'cool')\n"
   ]
  }
 ],
 "metadata": {
  "kernelspec": {
   "display_name": "Python 3",
   "language": "python",
   "name": "python3"
  },
  "language_info": {
   "codemirror_mode": {
    "name": "ipython",
    "version": 3
   },
   "file_extension": ".py",
   "mimetype": "text/x-python",
   "name": "python",
   "nbconvert_exporter": "python",
   "pygments_lexer": "ipython3",
   "version": "3.8.5"
  }
 },
 "nbformat": 4,
 "nbformat_minor": 4
}
